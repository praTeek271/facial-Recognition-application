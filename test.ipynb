{
 "cells": [
  {
   "cell_type": "code",
   "execution_count": 2,
   "metadata": {},
   "outputs": [],
   "source": [
    "# pip install opencv-python-contrib\n",
    "# pip install media\n",
    "\n",
    "import cv2\n",
    "import mediapipe as mp\n",
    "import time\n",
    "repeat=True"
   ]
  },
  {
   "cell_type": "code",
   "execution_count": 3,
   "metadata": {},
   "outputs": [],
   "source": [
    "cam=cv2.VideoCapture(0)  # capture_vedio\n",
    "mphands=mp.solutions.hands\n",
    "hands=mphands.Hands()\n",
    "mpdraw=mp.solutions.drawing_utils\n"
   ]
  },
  {
   "cell_type": "code",
   "execution_count": 5,
   "metadata": {},
   "outputs": [
    {
     "ename": "AttributeError",
     "evalue": "process",
     "output_type": "error",
     "traceback": [
      "\u001b[1;31m---------------------------------------------------------------------------\u001b[0m",
      "\u001b[1;31mAttributeError\u001b[0m                            Traceback (most recent call last)",
      "Cell \u001b[1;32mIn[5], line 5\u001b[0m\n\u001b[0;32m      3\u001b[0m sucess,img\u001b[39m=\u001b[39mcam\u001b[39m.\u001b[39mread()\n\u001b[0;32m      4\u001b[0m RGBimg\u001b[39m=\u001b[39mcv2\u001b[39m.\u001b[39mcvtColor(img,cv2\u001b[39m.\u001b[39mCOLOR_BGR2RGB)\n\u001b[1;32m----> 5\u001b[0m results\u001b[39m=\u001b[39mhands\u001b[39m.\u001b[39;49mprocess(RGBimg)\n\u001b[0;32m      6\u001b[0m hand_landmarks\u001b[39m=\u001b[39mresults\u001b[39m.\u001b[39mmulti_hand_landmarks\n\u001b[0;32m      8\u001b[0m \u001b[39mif\u001b[39;00m results\u001b[39m.\u001b[39mmulti_hand_landmarks:\n",
      "\u001b[1;31mAttributeError\u001b[0m: process"
     ]
    }
   ],
   "source": [
    "while True:\n",
    "\n",
    "    sucess,img=cam.read()\n",
    "    RGBimg=cv2.cvtColor(img,cv2.COLOR_BGR2RGB)\n",
    "    results=hands.process(RGBimg)\n",
    "    hand_landmarks=results.multi_hand_landmarks\n",
    "     \n",
    "    if results.multi_hand_landmarks:\n",
    "        for hands in results.multi_hand_landmarks:\n",
    "            mpdraw.draw_landmarks(img, hands,mphands.HAND_CONNECTIONS)\n",
    "\n",
    "\n",
    "    cv2.imshow(\"--Image--\",img)\n",
    "    cv2.waitKey(1)"
   ]
  }
 ],
 "metadata": {
  "kernelspec": {
   "display_name": "Python 3.9.13 ('up': venv)",
   "language": "python",
   "name": "python3"
  },
  "language_info": {
   "codemirror_mode": {
    "name": "ipython",
    "version": 3
   },
   "file_extension": ".py",
   "mimetype": "text/x-python",
   "name": "python",
   "nbconvert_exporter": "python",
   "pygments_lexer": "ipython3",
   "version": "3.9.13"
  },
  "orig_nbformat": 4,
  "vscode": {
   "interpreter": {
    "hash": "349bd2e1e7f9fce5c8d2d36c44c6129000b3ae2c8bd99f01b3ba8c49230083de"
   }
  }
 },
 "nbformat": 4,
 "nbformat_minor": 2
}
